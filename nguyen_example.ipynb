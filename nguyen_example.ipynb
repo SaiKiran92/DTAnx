{
 "cells": [
  {
   "cell_type": "code",
   "execution_count": 1,
   "metadata": {},
   "outputs": [],
   "source": [
    "import numpy as np\n",
    "from sim_elements import Controller\n",
    "from fifo3models import *"
   ]
  },
  {
   "cell_type": "code",
   "execution_count": 2,
   "metadata": {},
   "outputs": [],
   "source": [
    "# Nguyen network\n",
    "nnodes = 20\n",
    "nsinks = 2\n",
    "\n",
    "link_nodes = [\n",
    "    [1,3], [2,4], [3,5], [3,8], [4,5], [4,7], [5,6], [6,7], [6,9], [7,10], [8,9], [8,15], [9,11], [10,12], [10,17], \\\n",
    "    [11,12], [11,13], [12,14], [13,14], [13,15], [14,16], [15,18], [16,17], [16,18], [17,20], [18,19]\n",
    "]\n",
    "lengths = [2,2,2,3,1,2,2,2,1,2,2,4,2,1,5,2,3,3,2,2,2,3,2,1,2,2]\n",
    "\n",
    "Qs = [72]*len(lengths)\n",
    "ws = [0.8]*len(lengths)\n",
    "Ns = [240]*len(lengths)\n",
    "\n",
    "d_level = 1800\n",
    "demands = {\n",
    "    1: np.array([1]*2)*d_level,\n",
    "    2: np.array([1]*2)*d_level\n",
    "}\n",
    "Tm = 80\n",
    "T = 132\n",
    "\n",
    "alphas = np.array([1]*nsinks)\n",
    "betas = np.array([0.5]*nsinks)\n",
    "gammas = np.array([2]*nsinks)\n",
    "tstars = np.array([60]*nsinks)\n",
    "M = 10*T"
   ]
  },
  {
   "cell_type": "code",
   "execution_count": 3,
   "metadata": {},
   "outputs": [],
   "source": [
    "link_info = [\n",
    "    [*lnodes, {\n",
    "        'length': l,\n",
    "        'Q': Q,\n",
    "        'w': w,\n",
    "        'N': N\n",
    "    }]\n",
    "    for lnodes,l,Q,w,N in zip(link_nodes, lengths, Qs, ws, Ns)\n",
    "]\n",
    "\n",
    "models = {'link': F3Link,\n",
    "          'source': F3Source,\n",
    "          'sink': F3Sink,\n",
    "          'diverge': F3Diverge,\n",
    "          'merge': F3Merge}\n",
    "\n",
    "cost_params = {\n",
    "    'alpha': alphas,\n",
    "    'beta': betas,\n",
    "    'gamma': gammas,\n",
    "    'tstar': tstars,\n",
    "    'M': M\n",
    "}\n",
    "\n",
    "niter = 30\n",
    "learning_rate = 1e-4"
   ]
  },
  {
   "cell_type": "code",
   "execution_count": 4,
   "metadata": {},
   "outputs": [
    {
     "name": "stderr",
     "output_type": "stream",
     "text": [
      "/Users/mayakuntlasaikiran/Desktop/dta_github/fifo3models.py:87: RuntimeWarning: invalid value encountered in true_divide\n",
      "  self.flow_props[t,...] = np.nan_to_num(self.flows[t,...]/self.flows_agg[t,:][:,np.newaxis], nan=0, posinf=0, neginf=0)\n",
      "/Users/mayakuntlasaikiran/Desktop/dta_github/fifo3models.py:266: RuntimeWarning: divide by zero encountered in true_divide\n",
      "  a = np.min(R_remaining/np.abs(iterflows_link_agg))\n",
      "/Users/mayakuntlasaikiran/Desktop/dta_github/fifo3models.py:103: RuntimeWarning: invalid value encountered in double_scalars\n",
      "  firstprop = np.nan_to_num((self.flows_cum[firsta,-1] - (self.flows_cum[t-1,0] if t>0 else 0))/self.flows_agg[t,0], nan=0, posinf=0, neginf=0)\n",
      "/Users/mayakuntlasaikiran/Desktop/dta_github/fifo3models.py:111: RuntimeWarning: invalid value encountered in double_scalars\n",
      "  self.inflow_costs[t,:] += np.nan_to_num((self.flows_cum[t,0] - self.flows_cum[-1,-1])/self.flows_agg[t,0], nan=1, posinf=1, neginf=1)*self.M*self.alpha # default == 1, cuz flow could be zero\n",
      "/Users/mayakuntlasaikiran/Desktop/dta_github/fifo3models.py:103: RuntimeWarning: divide by zero encountered in double_scalars\n",
      "  firstprop = np.nan_to_num((self.flows_cum[firsta,-1] - (self.flows_cum[t-1,0] if t>0 else 0))/self.flows_agg[t,0], nan=0, posinf=0, neginf=0)\n",
      "/Users/mayakuntlasaikiran/Desktop/dta_github/fifo3models.py:111: RuntimeWarning: divide by zero encountered in double_scalars\n",
      "  self.inflow_costs[t,:] += np.nan_to_num((self.flows_cum[t,0] - self.flows_cum[-1,-1])/self.flows_agg[t,0], nan=1, posinf=1, neginf=1)*self.M*self.alpha # default == 1, cuz flow could be zero\n",
      "/Users/mayakuntlasaikiran/Desktop/dta_github/fifo3models.py:108: RuntimeWarning: invalid value encountered in double_scalars\n",
      "  lastprop = np.nan_to_num((self.flows_cum[t,0] - self.flows_cum[lasta-1,-1])/self.flows_agg[t,0], nan=1, posinf=1, neginf=1)\n",
      "/Users/mayakuntlasaikiran/Desktop/dta_github/fifo3models.py:108: RuntimeWarning: divide by zero encountered in double_scalars\n",
      "  lastprop = np.nan_to_num((self.flows_cum[t,0] - self.flows_cum[lasta-1,-1])/self.flows_agg[t,0], nan=1, posinf=1, neginf=1)\n"
     ]
    },
    {
     "name": "stdout",
     "output_type": "stream",
     "text": [
      "0     0.0006974802556 0.0114093829   1.927574798   \t 8.311211792    35.7075        159.7181202   \n",
      "1     0.0006880351933 0.01140908076  1.870885713   \t 7.222621199    34.6726217     138.8578176   \n",
      "2     0.0006791224705 0.01138909207  1.816035468   \t 6.134093287    33.67091265    118.2692244   \n",
      "3     0.0006702813955 0.01138878505  1.762989042   \t 5.045567792    32.70213544    97.68537292   \n",
      "4     0.0006614430939 0.01138848064  1.711808768   \t 3.957062359    31.76717851    77.10189049   \n",
      "5     0.0006529169261 0.01138817895  1.6624713     \t 2.868547882    30.86544792    56.51814906   \n",
      "6     0.0006442215497 0.01138789378  1.614739502   \t 1.780040016    29.99268165    35.93456062   \n",
      "7     0.0006353475725 0.008242258775 1.568573627   \t 0.6915404706   29.14816712    15.35144621   \n",
      "8     0.0006264336392 0.0005538677712 1.524309524   \t 0.01111173234  28.33848137    0.7028406098  \n",
      "9     0.0006292776925 0.000554523656 1.482654973   \t 0.01195008876  28.0387518     0.6705907733  \n",
      "10    0.0006352488937 0.0005553798603 1.457880393   \t 0.01296861447  27.9587622     0.6420515106  \n",
      "11    0.0006413383305 0.0005559001585 1.428654059   \t 0.01381878186  27.84258148    0.610851105   \n",
      "12    0.0006476316151 0.0005557714932 1.372985402   \t 0.01418930036  27.52952037    0.5733956862  \n",
      "13    0.0006543922831 0.0005555218725 1.325618872   \t 0.01431528722  27.24821126    0.5319951535  \n",
      "14    0.0006615436875 0.0005552776794 1.279608882   \t 0.01439365812  26.94895499    0.4897014906  \n",
      "15    0.0006688004223 0.0001242367247 1.23304378    \t 0.01445657897  26.61380504    0.4471068686  \n",
      "16    0.0006758069956 4.764397416e-05 1.192533075   \t 0.01452774794  26.30174267    0.4391365175  \n",
      "17    0.0006821765682 4.746032013e-05 1.155084227   \t 0.01460412195  25.98867827    0.4377274771  \n",
      "18    0.0006881019124 4.726507909e-05 1.120708339   \t 0.01466012869  25.67689724    0.4357837151  \n",
      "19    0.0006939281278 4.7090496e-05  1.087903328   \t 0.01471137681  25.34855093    0.4337085159  \n",
      "20    0.0006995084466 4.690831314e-05 1.055199595   \t 0.01476305301  24.98497451    0.4317019786  \n",
      "21    0.0007053934886 4.675492384e-05 1.022863563   \t 0.01481959746  24.58749604    0.4297234229  \n",
      "22    0.0007118075801 4.662774607e-05 0.9895983267  \t 0.01488679468  24.13945626    0.4280915548  \n",
      "23    0.0007186599338 4.651223678e-05 0.9561461547  \t 0.01496220855  23.64451565    0.42667246    \n",
      "24    0.0007261804894 4.640734088e-05 0.9213398394  \t 0.01504609186  23.08415472    0.4252767347  \n",
      "25    0.0007345875041 4.63938438e-05 0.8859200462  \t 0.01510476199  22.46912319    0.4243674254  \n",
      "26    0.0007433352278 4.648603445e-05 0.8512569816  \t 0.01516560374  21.81302666    0.4238625963  \n",
      "27    0.0007526996487 4.688805521e-05 0.8360111596  \t 0.01519243303  21.42885113    0.4245173652  \n",
      "28    0.0007605574989 4.778011995e-05 0.8176838485  \t 0.01515980218  20.96751604    0.4270453313  \n",
      "29    0.0007594046461 4.814184533e-05 0.7978062934  \t 0.01493598512  20.4497509     0.4266845935  \n"
     ]
    }
   ],
   "source": [
    "cont = Controller(link_info, T, Tm, models, demands, cost_params)\n",
    "dtchoices, srates = cont.calc_DUE(niter, learning_rate, print_iter_measures=True)"
   ]
  },
  {
   "cell_type": "code",
   "execution_count": null,
   "metadata": {},
   "outputs": [],
   "source": []
  },
  {
   "cell_type": "code",
   "execution_count": null,
   "metadata": {},
   "outputs": [],
   "source": []
  }
 ],
 "metadata": {
  "kernelspec": {
   "display_name": "Python 3",
   "language": "python",
   "name": "python3"
  },
  "language_info": {
   "codemirror_mode": {
    "name": "ipython",
    "version": 3
   },
   "file_extension": ".py",
   "mimetype": "text/x-python",
   "name": "python",
   "nbconvert_exporter": "python",
   "pygments_lexer": "ipython3",
   "version": "3.7.4"
  }
 },
 "nbformat": 4,
 "nbformat_minor": 4
}
